{
 "cells": [
  {
   "cell_type": "code",
   "execution_count": 3,
   "id": "b941cd7d-87fa-42e8-bef4-16b64ad529ba",
   "metadata": {},
   "outputs": [],
   "source": [
    "import numpy as np\n",
    "A = np.array([[1,1,1],\n",
    "             [1,2,2],\n",
    "              [1,2,3]])"
   ]
  },
  {
   "cell_type": "markdown",
   "id": "17d8b584-796b-46f7-8cd8-f642d214dc73",
   "metadata": {},
   "source": [
    "# Doolittle's LU decomposition\n",
    " In Doolittle's LU decomposition, we take the diagonals of the lower triangular matrix as 1 and the upper triangular matrix is initialised as full of zeros."
   ]
  },
  {
   "cell_type": "code",
   "execution_count": 4,
   "id": "d9dfb4ab-bc03-4fd8-8711-4c663149dc2d",
   "metadata": {},
   "outputs": [],
   "source": [
    "def dlu(A):\n",
    "    n = len(A)\n",
    "    L = np.eye(n)\n",
    "    U = np.zeros((n,n))\n",
    "    for i in range(n):\n",
    "        for j in range(n):\n",
    "            if (i>j):\n",
    "                L[i,j] = A[i,j]\n",
    "                for k in range(j):\n",
    "                    L[i,j] -= L[i,k]*U[k,j]\n",
    "                L[i,j] /= U[j,j]\n",
    "            elif (j>=i):\n",
    "                U[i,j] = A[i,j]\n",
    "                for k in range(i):\n",
    "                    U[i,j] -= L[i,k]*U[k,j]\n",
    "                U[i,j] /= L[i,i]\n",
    "\n",
    "    return L,U"
   ]
  },
  {
   "cell_type": "code",
   "execution_count": 5,
   "id": "7429e335-8a65-40b0-ad9d-7fc07ddb551a",
   "metadata": {},
   "outputs": [
    {
     "data": {
      "text/plain": [
       "(array([[1., 0., 0.],\n",
       "        [1., 1., 0.],\n",
       "        [1., 1., 1.]]),\n",
       " array([[1., 1., 1.],\n",
       "        [0., 1., 1.],\n",
       "        [0., 0., 1.]]))"
      ]
     },
     "execution_count": 5,
     "metadata": {},
     "output_type": "execute_result"
    }
   ],
   "source": [
    "l,u = dlu(A)\n",
    "l,u"
   ]
  },
  {
   "cell_type": "code",
   "execution_count": 6,
   "id": "f93a44ee-b5e3-47e9-a080-2b5d273a4dff",
   "metadata": {},
   "outputs": [
    {
     "data": {
      "text/plain": [
       "array([[1, 1, 1],\n",
       "       [1, 2, 2],\n",
       "       [1, 2, 3]])"
      ]
     },
     "execution_count": 6,
     "metadata": {},
     "output_type": "execute_result"
    }
   ],
   "source": [
    "A"
   ]
  },
  {
   "cell_type": "code",
   "execution_count": 7,
   "id": "8abe50d9-7290-49f1-bc1e-4ec38fcc921f",
   "metadata": {},
   "outputs": [
    {
     "data": {
      "text/plain": [
       "array([[1., 1., 1.],\n",
       "       [1., 2., 2.],\n",
       "       [1., 2., 3.]])"
      ]
     },
     "execution_count": 7,
     "metadata": {},
     "output_type": "execute_result"
    }
   ],
   "source": [
    "l@u"
   ]
  },
  {
   "cell_type": "markdown",
   "id": "5d205e27-8fa2-4227-92d6-0ca9147ecf93",
   "metadata": {},
   "source": [
    "# Crout's LU decomposition\n",
    " In Crout's LU decomposition, we take the diagonals of the upper triangular matrix as 1 and the lower triangular matrix is initialised as full of zeros."
   ]
  },
  {
   "cell_type": "code",
   "execution_count": 8,
   "id": "8e9e49e7-d323-42c0-beff-373ec2234617",
   "metadata": {},
   "outputs": [],
   "source": [
    "def clu(A):\n",
    "    n = len(A)\n",
    "    L = np.zeros((n,n))\n",
    "    U = np.eye(n)\n",
    "    for i in range(n):\n",
    "        for j in range(n):\n",
    "            if (i>=j):\n",
    "                L[i,j] = A[i,j]\n",
    "                for k in range(j):\n",
    "                    L[i,j] -= L[i,k]*U[k,j]\n",
    "                L[i,j] /= U[j,j]\n",
    "            elif (j>i):\n",
    "                U[i,j] = A[i,j]\n",
    "                for k in range(i):\n",
    "                    U[i,j] -= L[i,k]*U[k,j]\n",
    "                U[i,j] /= L[i,i]\n",
    "\n",
    "    return L,U"
   ]
  },
  {
   "cell_type": "code",
   "execution_count": 9,
   "id": "c39ec2ec-c5f7-4b2e-991f-4ef14ca0d643",
   "metadata": {},
   "outputs": [],
   "source": [
    "l,u = clu(A)"
   ]
  },
  {
   "cell_type": "code",
   "execution_count": 10,
   "id": "0dcc8723-e3c8-4f47-9715-9a4f8c0015f0",
   "metadata": {},
   "outputs": [
    {
     "data": {
      "text/plain": [
       "array([[1., 1., 1.],\n",
       "       [1., 2., 2.],\n",
       "       [1., 2., 3.]])"
      ]
     },
     "execution_count": 10,
     "metadata": {},
     "output_type": "execute_result"
    }
   ],
   "source": [
    "l@u"
   ]
  },
  {
   "cell_type": "markdown",
   "id": "56d65f21-bb3b-458f-a7bb-f21fb8ff7045",
   "metadata": {},
   "source": [
    "# Cholesky's LU decomposition\n",
    "\n",
    "The upper triangular matrix is the transpose of the lower triangular matrix i.e. $A=L \\cdot L^{T}$"
   ]
  },
  {
   "cell_type": "code",
   "execution_count": 13,
   "id": "5017f9b8-797c-426d-bd33-140c53067871",
   "metadata": {},
   "outputs": [],
   "source": [
    "def chlu(A):\n",
    "    n = len(A)\n",
    "    L = np.zeros((n,n))\n",
    "    U = np.zeros((n,n))\n",
    "    for i in range(n):\n",
    "        for j in range(n):\n",
    "            if (i==j):\n",
    "                L[i,j] = A[i,j]\n",
    "                for k in range(j):\n",
    "                    L[i,j] -= L[i,k]**2\n",
    "                L[i,j] = L[i,j]**(0.5)\n",
    "            elif (i>j):\n",
    "                L[i,j] = A[j,i]\n",
    "                for k in range(j):\n",
    "                    L[i,j] -= L[j,k]*L[i,k]\n",
    "                L[i,j] /= L[j,j]\n",
    "    U = L.transpose()\n",
    "    return L,U"
   ]
  },
  {
   "cell_type": "code",
   "execution_count": 15,
   "id": "c38ca722-e8bb-4b7e-99b0-edc20ae42f99",
   "metadata": {},
   "outputs": [
    {
     "data": {
      "text/plain": [
       "array([[1., 1., 1.],\n",
       "       [1., 2., 2.],\n",
       "       [1., 2., 3.]])"
      ]
     },
     "execution_count": 15,
     "metadata": {},
     "output_type": "execute_result"
    }
   ],
   "source": [
    "l,u = chlu(A)\n",
    "l@u"
   ]
  }
 ],
 "metadata": {
  "kernelspec": {
   "display_name": "Python 3 (ipykernel)",
   "language": "python",
   "name": "python3"
  },
  "language_info": {
   "codemirror_mode": {
    "name": "ipython",
    "version": 3
   },
   "file_extension": ".py",
   "mimetype": "text/x-python",
   "name": "python",
   "nbconvert_exporter": "python",
   "pygments_lexer": "ipython3",
   "version": "3.12.3"
  },
  "panel-cell-order": [
   "ddaed41a-bde8-408f-a5db-c0c1b14204e3",
   "dd4a3cf4-aacf-4814-b46a-75814c2f75fe"
  ]
 },
 "nbformat": 4,
 "nbformat_minor": 5
}
